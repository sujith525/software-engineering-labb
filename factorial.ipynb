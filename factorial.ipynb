{
  "nbformat": 4,
  "nbformat_minor": 0,
  "metadata": {
    "colab": {
      "provenance": [],
      "authorship_tag": "ABX9TyNk32WmqBY6mNIAakeS4bBQ",
      "include_colab_link": true
    },
    "kernelspec": {
      "name": "python3",
      "display_name": "Python 3"
    },
    "language_info": {
      "name": "python"
    }
  },
  "cells": [
    {
      "cell_type": "markdown",
      "metadata": {
        "id": "view-in-github",
        "colab_type": "text"
      },
      "source": [
        "<a href=\"https://colab.research.google.com/github/sujith525/software-engineering-labb/blob/main/factorial.ipynb\" target=\"_parent\"><img src=\"https://colab.research.google.com/assets/colab-badge.svg\" alt=\"Open In Colab\"/></a>"
      ]
    },
    {
      "cell_type": "code",
      "execution_count": 1,
      "metadata": {
        "colab": {
          "base_uri": "https://localhost:8080/"
        },
        "id": "YRT6wIAewbyz",
        "outputId": "5a88be20-3467-4bdb-e9f0-541000428151"
      },
      "outputs": [
        {
          "output_type": "stream",
          "name": "stdout",
          "text": [
            "Enter a number15\n",
            "The factorial is : 1307674368000\n"
          ]
        }
      ],
      "source": [
        "n=int(input(\"Enter a number\"))\n",
        "fact = 1\n",
        "\n",
        "for i in range(1, n+1):\n",
        "    fact = fact * i\n",
        "\n",
        "print(\"The factorial is : \", end=\"\")\n",
        "print(fact)"
      ]
    }
  ]
}